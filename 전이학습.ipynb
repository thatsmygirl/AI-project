{
  "cells": [
    {
      "cell_type": "markdown",
      "metadata": {
        "id": "view-in-github",
        "colab_type": "text"
      },
      "source": [
        "<a href=\"https://colab.research.google.com/github/thatsmygirl/AI-project/blob/main/%EC%A0%84%EC%9D%B4%ED%95%99%EC%8A%B5.ipynb\" target=\"_parent\"><img src=\"https://colab.research.google.com/assets/colab-badge.svg\" alt=\"Open In Colab\"/></a>"
      ]
    },
    {
      "cell_type": "code",
      "execution_count": null,
      "metadata": {
        "id": "QYaeYz4zIGI9"
      },
      "outputs": [],
      "source": [
        "from google.colab import drive\n",
        "drive.mount('/content/drive')"
      ]
    },
    {
      "cell_type": "code",
      "execution_count": 1,
      "metadata": {
        "id": "fLcW65PSgzKm"
      },
      "outputs": [],
      "source": [
        "import tensorflow as tf\n",
        "from tensorflow import keras\n",
        "\n",
        "import matplotlib.pyplot as plt\n",
        "import numpy as np\n",
        "\n",
        "import os"
      ]
    },
    {
      "cell_type": "code",
      "execution_count": 26,
      "metadata": {
        "id": "CDKgjMZMhdwj"
      },
      "outputs": [],
      "source": [
        "image_size = 224\n",
        "target_size = (image_size, image_size)\n",
        "input_shape = (image_size, image_size, 3)\n",
        "\n",
        "batch_size = 32\n",
        "epochs = 20"
      ]
    },
    {
      "cell_type": "code",
      "execution_count": 41,
      "metadata": {
        "id": "b5rqzQYVjGgx",
        "colab": {
          "base_uri": "https://localhost:8080/"
        },
        "outputId": "5078ad0a-c2e7-48fc-a26a-5108ef25503a"
      },
      "outputs": [
        {
          "output_type": "stream",
          "name": "stdout",
          "text": [
            "rmdir: failed to remove '/content/drive/My': No such file or directory\n",
            "rmdir: failed to remove 'Drive/DeepCID/model_cnn/.ipynb_checkpoints': No such file or directory\n"
          ]
        }
      ],
      "source": [
        "base_dir = \"../content/drive/MyDrive/dataset/New Plant Diseases Dataset(Augmented)/New Plant Diseases Dataset(Augmented)\"\n",
        "train_dir = os.path.join(base_dir,\"train\")\n",
        "test_dir = os.path.join(base_dir,\"valid\")\n",
        "!rmdir /content/drive/My Drive/DeepCID/model_cnn/.ipynb_checkpoints"
      ]
    },
    {
      "cell_type": "code",
      "execution_count": 42,
      "metadata": {
        "id": "YDUgsKv3ny7O"
      },
      "outputs": [],
      "source": [
        "train_datagen = keras.preprocessing.image.ImageDataGenerator(rescale = 1/255.0,\n",
        "                                                             shear_range = 0.2,\n",
        "                                                             zoom_range = 0.2,\n",
        "                                                             width_shift_range = 0.2,\n",
        "                                                             height_shift_range = 0.2,\n",
        "                                                             fill_mode=\"nearest\")\n",
        "\n",
        "test_datagen = keras.preprocessing.image.ImageDataGenerator(rescale = 1/255.0)"
      ]
    },
    {
      "cell_type": "code",
      "execution_count": 43,
      "metadata": {
        "colab": {
          "base_uri": "https://localhost:8080/"
        },
        "id": "P-JHU3Empmui",
        "outputId": "bfaa7437-888d-4e8d-da9b-e984b29214fd"
      },
      "outputs": [
        {
          "output_type": "stream",
          "name": "stdout",
          "text": [
            "Found 18504 images belonging to 10 classes.\n",
            "Found 4626 images belonging to 10 classes.\n"
          ]
        }
      ],
      "source": [
        "train_data = train_datagen.flow_from_directory(train_dir,\n",
        "                                               target_size = (image_size, image_size),\n",
        "                                               batch_size = batch_size,\n",
        "                                               class_mode = \"categorical\")\n",
        "\n",
        "test_data = test_datagen.flow_from_directory(test_dir,\n",
        "                                             target_size = (image_size, image_size),\n",
        "                                             batch_size = batch_size,\n",
        "                                             class_mode = \"categorical\")"
      ]
    },
    {
      "cell_type": "code",
      "execution_count": 44,
      "metadata": {
        "colab": {
          "base_uri": "https://localhost:8080/"
        },
        "id": "73BsNohIqNUZ",
        "outputId": "28699e13-92b0-48d2-94d0-ed2e2a181e31"
      },
      "outputs": [
        {
          "output_type": "stream",
          "name": "stdout",
          "text": [
            "{'Apple___Apple_scab': 0, 'Apple___Black_rot': 1, 'Apple___Cedar_apple_rust': 2, 'Apple___healthy': 3, 'Blueberry___healthy': 4, 'Cherry_(including_sour)___Powdery_mildew': 5, 'Cherry_(including_sour)___healthy': 6, 'Corn_(maize)___Cercospora_leaf_spot Gray_leaf_spot': 7, 'Corn_(maize)___Common_rust_': 8, 'Corn_(maize)___healthy': 9}\n"
          ]
        }
      ],
      "source": [
        "categories = list(train_data.class_indices.keys())\n",
        "print(train_data.class_indices)"
      ]
    },
    {
      "cell_type": "code",
      "execution_count": 31,
      "metadata": {
        "colab": {
          "base_uri": "https://localhost:8080/",
          "height": 34
        },
        "id": "bBGT1V3GqPQl",
        "outputId": "16cd8d97-8721-438c-e7e5-2f03dece173e"
      },
      "outputs": [
        {
          "output_type": "execute_result",
          "data": {
            "text/plain": [
              "/content/class_indices.json"
            ],
            "text/html": [
              "<a href='class_indices.json' target='_blank'>class_indices.json</a><br>"
            ]
          },
          "metadata": {},
          "execution_count": 31
        }
      ],
      "source": [
        "import json\n",
        "with open('class_indices.json','w') as f:\n",
        "  json.dump(train_data.class_indices, f)\n",
        "\n",
        "from IPython.display import FileLink\n",
        "FileLink(r'class_indices.json')"
      ]
    },
    {
      "cell_type": "code",
      "execution_count": 45,
      "metadata": {
        "id": "C0dl0MtSvIx7"
      },
      "outputs": [],
      "source": [
        "base_model = tf.keras.applications.MobileNet(weights = \"imagenet\",\n",
        "                                             include_top = False,\n",
        "                                             input_shape = input_shape)\n",
        "\n",
        "base_model.trainable = False"
      ]
    },
    {
      "cell_type": "code",
      "execution_count": 46,
      "metadata": {
        "id": "nbHPiF-nvMSw"
      },
      "outputs": [],
      "source": [
        "inputs = keras.Input(shape = input_shape)\n",
        "\n",
        "x = base_model(inputs, training = False)\n",
        "x = tf.keras.layers.GlobalAveragePooling2D()(x)\n",
        "x = tf.keras.layers.Dropout(0.2)(x)\n",
        "x = tf.keras.layers.Dense(len(categories), \n",
        "                          activation=\"softmax\")(x)\n",
        "\n",
        "model = keras.Model(inputs = inputs, \n",
        "                    outputs = x, \n",
        "                    name=\"PlantDiseases\")"
      ]
    },
    {
      "cell_type": "code",
      "execution_count": 47,
      "metadata": {
        "id": "QNVOAvUXvPls"
      },
      "outputs": [],
      "source": [
        "optimizer = tf.keras.optimizers.Adam()\n",
        "\n",
        "model.compile(optimizer = optimizer,\n",
        "              loss = tf.keras.losses.CategoricalCrossentropy(from_logits = True),\n",
        "              metrics=[keras.metrics.CategoricalAccuracy(), \n",
        "                       'accuracy'])"
      ]
    },
    {
      "cell_type": "code",
      "execution_count": 48,
      "metadata": {
        "colab": {
          "base_uri": "https://localhost:8080/"
        },
        "id": "pJzp5NoPvR2X",
        "outputId": "4d088b65-356b-4112-c189-4a50783dcc18"
      },
      "outputs": [
        {
          "output_type": "stream",
          "name": "stdout",
          "text": [
            "Epoch 1/20\n"
          ]
        },
        {
          "output_type": "stream",
          "name": "stderr",
          "text": [
            "/usr/local/lib/python3.7/dist-packages/tensorflow/python/util/dispatch.py:1082: UserWarning: \"`categorical_crossentropy` received `from_logits=True`, but the `output` argument was produced by a sigmoid or softmax activation and thus does not represent logits. Was this intended?\"\n",
            "  return dispatch_target(*args, **kwargs)\n"
          ]
        },
        {
          "output_type": "stream",
          "name": "stdout",
          "text": [
            "100/100 [==============================] - 1255s 13s/step - loss: 0.9122 - categorical_accuracy: 0.7100 - accuracy: 0.7100 - val_loss: 0.3074 - val_categorical_accuracy: 0.9294 - val_accuracy: 0.9294\n",
            "Epoch 2/20\n",
            "100/100 [==============================] - 950s 10s/step - loss: 0.2790 - categorical_accuracy: 0.9225 - accuracy: 0.9225 - val_loss: 0.1536 - val_categorical_accuracy: 0.9625 - val_accuracy: 0.9625\n",
            "Epoch 3/20\n",
            "100/100 [==============================] - 763s 8s/step - loss: 0.2051 - categorical_accuracy: 0.9425 - accuracy: 0.9425 - val_loss: 0.1200 - val_categorical_accuracy: 0.9700 - val_accuracy: 0.9700\n",
            "Epoch 4/20\n",
            "100/100 [==============================] - 620s 6s/step - loss: 0.1563 - categorical_accuracy: 0.9528 - accuracy: 0.9528 - val_loss: 0.0941 - val_categorical_accuracy: 0.9756 - val_accuracy: 0.9756\n",
            "Epoch 5/20\n",
            "100/100 [==============================] - 495s 5s/step - loss: 0.1340 - categorical_accuracy: 0.9597 - accuracy: 0.9597 - val_loss: 0.0829 - val_categorical_accuracy: 0.9769 - val_accuracy: 0.9769\n",
            "Epoch 6/20\n",
            "100/100 [==============================] - 433s 4s/step - loss: 0.1065 - categorical_accuracy: 0.9697 - accuracy: 0.9697 - val_loss: 0.0664 - val_categorical_accuracy: 0.9800 - val_accuracy: 0.9800\n",
            "Epoch 7/20\n",
            "100/100 [==============================] - 320s 3s/step - loss: 0.0859 - categorical_accuracy: 0.9759 - accuracy: 0.9759 - val_loss: 0.0689 - val_categorical_accuracy: 0.9787 - val_accuracy: 0.9787\n",
            "Epoch 8/20\n",
            "100/100 [==============================] - 283s 3s/step - loss: 0.0811 - categorical_accuracy: 0.9734 - accuracy: 0.9734 - val_loss: 0.0516 - val_categorical_accuracy: 0.9862 - val_accuracy: 0.9862\n",
            "Epoch 9/20\n",
            "100/100 [==============================] - 246s 2s/step - loss: 0.0867 - categorical_accuracy: 0.9762 - accuracy: 0.9762 - val_loss: 0.0535 - val_categorical_accuracy: 0.9850 - val_accuracy: 0.9850\n",
            "Epoch 10/20\n",
            "100/100 [==============================] - 205s 2s/step - loss: 0.0754 - categorical_accuracy: 0.9769 - accuracy: 0.9769 - val_loss: 0.0485 - val_categorical_accuracy: 0.9887 - val_accuracy: 0.9887\n",
            "Epoch 11/20\n",
            "100/100 [==============================] - 169s 2s/step - loss: 0.0700 - categorical_accuracy: 0.9819 - accuracy: 0.9819 - val_loss: 0.0447 - val_categorical_accuracy: 0.9875 - val_accuracy: 0.9875\n",
            "Epoch 12/20\n",
            "100/100 [==============================] - 158s 2s/step - loss: 0.0624 - categorical_accuracy: 0.9834 - accuracy: 0.9834 - val_loss: 0.0496 - val_categorical_accuracy: 0.9831 - val_accuracy: 0.9831\n",
            "Epoch 13/20\n",
            "100/100 [==============================] - 126s 1s/step - loss: 0.0746 - categorical_accuracy: 0.9781 - accuracy: 0.9781 - val_loss: 0.0369 - val_categorical_accuracy: 0.9894 - val_accuracy: 0.9894\n",
            "Epoch 14/20\n",
            "100/100 [==============================] - 114s 1s/step - loss: 0.0668 - categorical_accuracy: 0.9802 - accuracy: 0.9802 - val_loss: 0.0556 - val_categorical_accuracy: 0.9844 - val_accuracy: 0.9844\n",
            "Epoch 15/20\n",
            "100/100 [==============================] - 110s 1s/step - loss: 0.0539 - categorical_accuracy: 0.9837 - accuracy: 0.9837 - val_loss: 0.0391 - val_categorical_accuracy: 0.9875 - val_accuracy: 0.9875\n",
            "Epoch 16/20\n",
            "100/100 [==============================] - 99s 992ms/step - loss: 0.0590 - categorical_accuracy: 0.9812 - accuracy: 0.9812 - val_loss: 0.0505 - val_categorical_accuracy: 0.9837 - val_accuracy: 0.9837\n",
            "Epoch 17/20\n",
            "100/100 [==============================] - 77s 776ms/step - loss: 0.0508 - categorical_accuracy: 0.9847 - accuracy: 0.9847 - val_loss: 0.0269 - val_categorical_accuracy: 0.9925 - val_accuracy: 0.9925\n",
            "Epoch 18/20\n",
            "100/100 [==============================] - 80s 805ms/step - loss: 0.0554 - categorical_accuracy: 0.9859 - accuracy: 0.9859 - val_loss: 0.0371 - val_categorical_accuracy: 0.9900 - val_accuracy: 0.9900\n",
            "Epoch 19/20\n",
            "100/100 [==============================] - 75s 754ms/step - loss: 0.0545 - categorical_accuracy: 0.9841 - accuracy: 0.9841 - val_loss: 0.0376 - val_categorical_accuracy: 0.9881 - val_accuracy: 0.9881\n",
            "Epoch 20/20\n",
            "100/100 [==============================] - 71s 701ms/step - loss: 0.0449 - categorical_accuracy: 0.9846 - accuracy: 0.9846 - val_loss: 0.0272 - val_categorical_accuracy: 0.9931 - val_accuracy: 0.9931\n"
          ]
        }
      ],
      "source": [
        "history = model.fit(train_data,\n",
        "                    validation_data=test_data,\n",
        "                    epochs=epochs,\n",
        "                    steps_per_epoch=100,\n",
        "                    validation_steps=50)"
      ]
    }
  ],
  "metadata": {
    "accelerator": "GPU",
    "colab": {
      "collapsed_sections": [],
      "machine_shape": "hm",
      "name": "전이학습.ipynb",
      "provenance": [],
      "mount_file_id": "1hp_-Uw0xN3rs9p-ch-i1YMbOdt3hMDpU",
      "authorship_tag": "ABX9TyO5asjLjNHEfWqiAPTy6yEh",
      "include_colab_link": true
    },
    "kernelspec": {
      "display_name": "Python 3",
      "name": "python3"
    },
    "language_info": {
      "name": "python"
    }
  },
  "nbformat": 4,
  "nbformat_minor": 0
}