{
  "cells": [
    {
      "cell_type": "markdown",
      "metadata": {
        "id": "view-in-github",
        "colab_type": "text"
      },
      "source": [
        "<a href=\"https://colab.research.google.com/github/thatsmygirl/AI-project/blob/main/%EC%A0%84%EC%9D%B4%ED%95%99%EC%8A%B5.ipynb\" target=\"_parent\"><img src=\"https://colab.research.google.com/assets/colab-badge.svg\" alt=\"Open In Colab\"/></a>"
      ]
    },
    {
      "cell_type": "code",
      "execution_count": null,
      "metadata": {
        "id": "QYaeYz4zIGI9"
      },
      "outputs": [],
      "source": [
        "from google.colab import drive\n",
        "drive.mount('/content/drive')"
      ]
    },
    {
      "cell_type": "code",
      "execution_count": 1,
      "metadata": {
        "id": "fLcW65PSgzKm"
      },
      "outputs": [],
      "source": [
        "import tensorflow as tf\n",
        "from tensorflow import keras\n",
        "\n",
        "import matplotlib.pyplot as plt\n",
        "import numpy as np\n",
        "\n",
        "import os"
      ]
    },
    {
      "cell_type": "code",
      "execution_count": 2,
      "metadata": {
        "id": "CDKgjMZMhdwj"
      },
      "outputs": [],
      "source": [
        "image_size = 224\n",
        "target_size = (image_size, image_size)\n",
        "input_shape = (image_size, image_size, 3)\n",
        "\n",
        "batch_size = 32\n",
        "epochs = 20"
      ]
    },
    {
      "cell_type": "code",
      "execution_count": 3,
      "metadata": {
        "id": "b5rqzQYVjGgx",
        "colab": {
          "base_uri": "https://localhost:8080/"
        },
        "outputId": "6387d94a-401b-4359-e46b-8322a0cfd508"
      },
      "outputs": [
        {
          "output_type": "stream",
          "name": "stdout",
          "text": [
            "rmdir: failed to remove '/content/drive/My': No such file or directory\n",
            "rmdir: failed to remove 'Drive/DeepCID/model_cnn/.ipynb_checkpoints': No such file or directory\n"
          ]
        }
      ],
      "source": [
        "base_dir = \"../content/drive/MyDrive/dataset/New Plant Diseases Dataset(Augmented)/New Plant Diseases Dataset(Augmented)\"\n",
        "train_dir = os.path.join(base_dir,\"train\")\n",
        "test_dir = os.path.join(base_dir,\"valid\")\n",
        "!rmdir /content/drive/My Drive/DeepCID/model_cnn/.ipynb_checkpoints"
      ]
    },
    {
      "cell_type": "code",
      "execution_count": 4,
      "metadata": {
        "id": "YDUgsKv3ny7O"
      },
      "outputs": [],
      "source": [
        "train_datagen = keras.preprocessing.image.ImageDataGenerator(rescale = 1/255.0,\n",
        "                                                             shear_range = 0.2,\n",
        "                                                             zoom_range = 0.2,\n",
        "                                                             width_shift_range = 0.2,\n",
        "                                                             height_shift_range = 0.2,\n",
        "                                                             fill_mode=\"nearest\")\n",
        "\n",
        "test_datagen = keras.preprocessing.image.ImageDataGenerator(rescale = 1/255.0)"
      ]
    },
    {
      "cell_type": "code",
      "execution_count": 5,
      "metadata": {
        "colab": {
          "base_uri": "https://localhost:8080/"
        },
        "id": "P-JHU3Empmui",
        "outputId": "42525e1b-84f0-4f74-9185-a61713b21893"
      },
      "outputs": [
        {
          "output_type": "stream",
          "name": "stdout",
          "text": [
            "Found 18504 images belonging to 10 classes.\n",
            "Found 4626 images belonging to 10 classes.\n"
          ]
        }
      ],
      "source": [
        "train_data = train_datagen.flow_from_directory(train_dir,\n",
        "                                               target_size = (image_size, image_size),\n",
        "                                               batch_size = batch_size,\n",
        "                                               class_mode = \"categorical\")\n",
        "\n",
        "test_data = test_datagen.flow_from_directory(test_dir,\n",
        "                                             target_size = (image_size, image_size),\n",
        "                                             batch_size = batch_size,\n",
        "                                             class_mode = \"categorical\")"
      ]
    },
    {
      "cell_type": "code",
      "execution_count": 6,
      "metadata": {
        "colab": {
          "base_uri": "https://localhost:8080/"
        },
        "id": "73BsNohIqNUZ",
        "outputId": "8f3791f2-2e8b-4987-aae2-9c6cab32efc8"
      },
      "outputs": [
        {
          "output_type": "stream",
          "name": "stdout",
          "text": [
            "{'Apple___Apple_scab': 0, 'Apple___Black_rot': 1, 'Apple___Cedar_apple_rust': 2, 'Apple___healthy': 3, 'Blueberry___healthy': 4, 'Cherry_(including_sour)___Powdery_mildew': 5, 'Cherry_(including_sour)___healthy': 6, 'Corn_(maize)___Cercospora_leaf_spot Gray_leaf_spot': 7, 'Corn_(maize)___Common_rust_': 8, 'Corn_(maize)___healthy': 9}\n"
          ]
        }
      ],
      "source": [
        "categories = list(train_data.class_indices.keys())\n",
        "print(train_data.class_indices)"
      ]
    },
    {
      "cell_type": "code",
      "execution_count": 7,
      "metadata": {
        "colab": {
          "base_uri": "https://localhost:8080/",
          "height": 34
        },
        "id": "bBGT1V3GqPQl",
        "outputId": "39189fce-0b05-4063-b5ad-59d115f3b9d4"
      },
      "outputs": [
        {
          "output_type": "execute_result",
          "data": {
            "text/plain": [
              "/content/class_indices.json"
            ],
            "text/html": [
              "<a href='class_indices.json' target='_blank'>class_indices.json</a><br>"
            ]
          },
          "metadata": {},
          "execution_count": 7
        }
      ],
      "source": [
        "import json\n",
        "with open('class_indices.json','w') as f:\n",
        "  json.dump(train_data.class_indices, f)\n",
        "\n",
        "from IPython.display import FileLink\n",
        "FileLink(r'class_indices.json')"
      ]
    },
    {
      "cell_type": "code",
      "execution_count": 8,
      "metadata": {
        "colab": {
          "base_uri": "https://localhost:8080/"
        },
        "id": "C0dl0MtSvIx7",
        "outputId": "9ae52437-4f34-44c8-d6a1-15573691491b"
      },
      "outputs": [
        {
          "output_type": "stream",
          "name": "stdout",
          "text": [
            "Downloading data from https://storage.googleapis.com/tensorflow/keras-applications/mobilenet/mobilenet_1_0_224_tf_no_top.h5\n",
            "17227776/17225924 [==============================] - 0s 0us/step\n",
            "17235968/17225924 [==============================] - 0s 0us/step\n"
          ]
        }
      ],
      "source": [
        "base_model = tf.keras.applications.MobileNet(weights = \"imagenet\",\n",
        "                                             include_top = False,\n",
        "                                             input_shape = input_shape)\n",
        "\n",
        "base_model.trainable = False"
      ]
    },
    {
      "cell_type": "code",
      "execution_count": 9,
      "metadata": {
        "id": "nbHPiF-nvMSw"
      },
      "outputs": [],
      "source": [
        "inputs = keras.Input(shape = input_shape)\n",
        "\n",
        "x = base_model(inputs, training = False)\n",
        "x = tf.keras.layers.GlobalAveragePooling2D()(x)\n",
        "x = tf.keras.layers.Dropout(0.2)(x)\n",
        "x = tf.keras.layers.Dense(len(categories), \n",
        "                          activation=\"softmax\")(x)\n",
        "\n",
        "model = keras.Model(inputs = inputs, \n",
        "                    outputs = x, \n",
        "                    name=\"PlantDiseases\")"
      ]
    },
    {
      "cell_type": "code",
      "execution_count": 10,
      "metadata": {
        "id": "QNVOAvUXvPls"
      },
      "outputs": [],
      "source": [
        "optimizer = tf.keras.optimizers.Adam()\n",
        "\n",
        "model.compile(optimizer = optimizer,\n",
        "              loss = tf.keras.losses.CategoricalCrossentropy(from_logits = True),\n",
        "              metrics=[keras.metrics.CategoricalAccuracy(), \n",
        "                       'accuracy'])"
      ]
    },
    {
      "cell_type": "code",
      "execution_count": 11,
      "metadata": {
        "colab": {
          "base_uri": "https://localhost:8080/"
        },
        "id": "pJzp5NoPvR2X",
        "outputId": "f83464f4-60b8-4541-de21-f6447baa53d3"
      },
      "outputs": [
        {
          "output_type": "stream",
          "name": "stdout",
          "text": [
            "Epoch 1/20\n"
          ]
        },
        {
          "output_type": "stream",
          "name": "stderr",
          "text": [
            "/usr/local/lib/python3.7/dist-packages/tensorflow/python/util/dispatch.py:1082: UserWarning: \"`categorical_crossentropy` received `from_logits=True`, but the `output` argument was produced by a sigmoid or softmax activation and thus does not represent logits. Was this intended?\"\n",
            "  return dispatch_target(*args, **kwargs)\n"
          ]
        },
        {
          "output_type": "stream",
          "name": "stdout",
          "text": [
            "100/100 [==============================] - 2083s 21s/step - loss: 0.9687 - categorical_accuracy: 0.6947 - accuracy: 0.6947 - val_loss: 0.2972 - val_categorical_accuracy: 0.9312 - val_accuracy: 0.9312\n",
            "Epoch 2/20\n",
            "100/100 [==============================] - 1600s 16s/step - loss: 0.2816 - categorical_accuracy: 0.9212 - accuracy: 0.9212 - val_loss: 0.1520 - val_categorical_accuracy: 0.9688 - val_accuracy: 0.9688\n",
            "Epoch 3/20\n",
            "100/100 [==============================] - 1207s 12s/step - loss: 0.1840 - categorical_accuracy: 0.9531 - accuracy: 0.9531 - val_loss: 0.1155 - val_categorical_accuracy: 0.9712 - val_accuracy: 0.9712\n",
            "Epoch 4/20\n",
            "100/100 [==============================] - 977s 10s/step - loss: 0.1391 - categorical_accuracy: 0.9628 - accuracy: 0.9628 - val_loss: 0.0942 - val_categorical_accuracy: 0.9750 - val_accuracy: 0.9750\n",
            "Epoch 5/20\n",
            "100/100 [==============================] - 754s 8s/step - loss: 0.1304 - categorical_accuracy: 0.9635 - accuracy: 0.9635 - val_loss: 0.0754 - val_categorical_accuracy: 0.9812 - val_accuracy: 0.9812\n",
            "Epoch 6/20\n",
            "100/100 [==============================] - 611s 6s/step - loss: 0.1023 - categorical_accuracy: 0.9759 - accuracy: 0.9759 - val_loss: 0.0744 - val_categorical_accuracy: 0.9787 - val_accuracy: 0.9787\n",
            "Epoch 7/20\n",
            "100/100 [==============================] - 508s 5s/step - loss: 0.1147 - categorical_accuracy: 0.9659 - accuracy: 0.9659 - val_loss: 0.0681 - val_categorical_accuracy: 0.9825 - val_accuracy: 0.9825\n",
            "Epoch 8/20\n",
            "100/100 [==============================] - 406s 4s/step - loss: 0.0821 - categorical_accuracy: 0.9795 - accuracy: 0.9795 - val_loss: 0.0754 - val_categorical_accuracy: 0.9775 - val_accuracy: 0.9775\n",
            "Epoch 9/20\n",
            "100/100 [==============================] - 333s 3s/step - loss: 0.0820 - categorical_accuracy: 0.9767 - accuracy: 0.9767 - val_loss: 0.0468 - val_categorical_accuracy: 0.9862 - val_accuracy: 0.9862\n",
            "Epoch 10/20\n",
            "100/100 [==============================] - 287s 3s/step - loss: 0.0772 - categorical_accuracy: 0.9762 - accuracy: 0.9762 - val_loss: 0.0426 - val_categorical_accuracy: 0.9894 - val_accuracy: 0.9894\n",
            "Epoch 11/20\n",
            "100/100 [==============================] - 241s 2s/step - loss: 0.0751 - categorical_accuracy: 0.9759 - accuracy: 0.9759 - val_loss: 0.0593 - val_categorical_accuracy: 0.9819 - val_accuracy: 0.9819\n",
            "Epoch 12/20\n",
            "100/100 [==============================] - 203s 2s/step - loss: 0.0710 - categorical_accuracy: 0.9775 - accuracy: 0.9775 - val_loss: 0.0488 - val_categorical_accuracy: 0.9856 - val_accuracy: 0.9856\n",
            "Epoch 13/20\n",
            "100/100 [==============================] - 172s 2s/step - loss: 0.0565 - categorical_accuracy: 0.9837 - accuracy: 0.9837 - val_loss: 0.0387 - val_categorical_accuracy: 0.9912 - val_accuracy: 0.9912\n",
            "Epoch 14/20\n",
            "100/100 [==============================] - 135s 1s/step - loss: 0.0601 - categorical_accuracy: 0.9794 - accuracy: 0.9794 - val_loss: 0.0426 - val_categorical_accuracy: 0.9869 - val_accuracy: 0.9869\n",
            "Epoch 15/20\n",
            "100/100 [==============================] - 130s 1s/step - loss: 0.0572 - categorical_accuracy: 0.9831 - accuracy: 0.9831 - val_loss: 0.0473 - val_categorical_accuracy: 0.9862 - val_accuracy: 0.9862\n",
            "Epoch 16/20\n",
            "100/100 [==============================] - 118s 1s/step - loss: 0.0656 - categorical_accuracy: 0.9800 - accuracy: 0.9800 - val_loss: 0.0357 - val_categorical_accuracy: 0.9906 - val_accuracy: 0.9906\n",
            "Epoch 17/20\n",
            "100/100 [==============================] - 101s 1s/step - loss: 0.0619 - categorical_accuracy: 0.9784 - accuracy: 0.9784 - val_loss: 0.0280 - val_categorical_accuracy: 0.9937 - val_accuracy: 0.9937\n",
            "Epoch 18/20\n",
            "100/100 [==============================] - 97s 973ms/step - loss: 0.0533 - categorical_accuracy: 0.9836 - accuracy: 0.9836 - val_loss: 0.0377 - val_categorical_accuracy: 0.9912 - val_accuracy: 0.9912\n",
            "Epoch 19/20\n",
            "100/100 [==============================] - 77s 773ms/step - loss: 0.0438 - categorical_accuracy: 0.9847 - accuracy: 0.9847 - val_loss: 0.0287 - val_categorical_accuracy: 0.9925 - val_accuracy: 0.9925\n",
            "Epoch 20/20\n",
            "100/100 [==============================] - 91s 906ms/step - loss: 0.0474 - categorical_accuracy: 0.9862 - accuracy: 0.9862 - val_loss: 0.0279 - val_categorical_accuracy: 0.9919 - val_accuracy: 0.9919\n"
          ]
        }
      ],
      "source": [
        "history = model.fit(train_data,\n",
        "                    validation_data=test_data,\n",
        "                    epochs=epochs,\n",
        "                    steps_per_epoch=100,\n",
        "                    validation_steps=50)"
      ]
    },
    {
      "cell_type": "code",
      "source": [
        "scores = model.evaluate(test_data, steps=5)\n",
        "print(\"%s: %.2f%%\" %(model.metrics_names[1], scores[1]*100))"
      ],
      "metadata": {
        "colab": {
          "base_uri": "https://localhost:8080/"
        },
        "id": "UJQzSYGTrdyR",
        "outputId": "c2b8e736-4644-4f1f-a8fd-a003a18b7c16"
      },
      "execution_count": 19,
      "outputs": [
        {
          "output_type": "stream",
          "name": "stdout",
          "text": [
            "5/5 [==============================] - 1s 106ms/step - loss: 0.0273 - categorical_accuracy: 0.9937 - accuracy: 0.9937\n",
            "categorical_accuracy: 99.37%\n"
          ]
        }
      ]
    },
    {
      "cell_type": "code",
      "source": [
        "loss = history.history['loss']\n",
        "val_loss = history.history['val_loss']\n",
        "\n",
        "epochs = range(len(loss))\n",
        "\n",
        "fig = plt.figure(figsize=(10,6))\n",
        "plt.plot(epochs,loss,c=\"red\",label=\"Training\")\n",
        "plt.plot(epochs,val_loss,c=\"blue\",label=\"Validation\")\n",
        "plt.xlabel(\"Epochs\")\n",
        "plt.ylabel(\"Loss\")\n",
        "plt.legend()"
      ],
      "metadata": {
        "colab": {
          "base_uri": "https://localhost:8080/",
          "height": 407
        },
        "id": "gW10zD3Oojjq",
        "outputId": "82d28cb1-b242-44a7-c685-5cd50412dd65"
      },
      "execution_count": 12,
      "outputs": [
        {
          "output_type": "execute_result",
          "data": {
            "text/plain": [
              "<matplotlib.legend.Legend at 0x7f5404115f90>"
            ]
          },
          "metadata": {},
          "execution_count": 12
        },
        {
          "output_type": "display_data",
          "data": {
            "text/plain": [
              "<Figure size 720x432 with 1 Axes>"
            ],
            "image/png": "[encoded data removed]"
          },
          "metadata": {
            "needs_background": "light"
          }
        }
      ]
    },
    {
      "cell_type": "code",
      "source": [
        "acc = history.history['categorical_accuracy']\n",
        "val_acc = history.history['val_categorical_accuracy']\n",
        "\n",
        "epochs = range(len(acc))\n",
        "\n",
        "fig = plt.figure(figsize=(10,6))\n",
        "plt.plot(epochs,acc,c=\"red\",label=\"Training\")\n",
        "plt.plot(epochs,val_acc,c=\"blue\",label=\"Validation\")\n",
        "plt.xlabel(\"Epochs\")\n",
        "plt.ylabel(\"Accuracy\")\n",
        "plt.legend()"
      ],
      "metadata": {
        "colab": {
          "base_uri": "https://localhost:8080/",
          "height": 407
        },
        "id": "XxfvyB7WokxG",
        "outputId": "ac9a9125-3840-4f60-e9d6-4d871d3a1808"
      },
      "execution_count": 13,
      "outputs": [
        {
          "output_type": "execute_result",
          "data": {
            "text/plain": [
              "<matplotlib.legend.Legend at 0x7f540405dfd0>"
            ]
          },
          "metadata": {},
          "execution_count": 13
        },
        {
          "output_type": "display_data",
          "data": {
            "text/plain": [
              "<Figure size 720x432 with 1 Axes>"
            ],
            "image/png": "[encoded data removed]"
          },
          "metadata": {
            "needs_background": "light"
          }
        }
      ]
    }
  ],
  "metadata": {
    "accelerator": "GPU",
    "colab": {
      "collapsed_sections": [],
      "machine_shape": "hm",
      "name": "전이학습.ipynb",
      "provenance": [],
      "mount_file_id": "1hp_-Uw0xN3rs9p-ch-i1YMbOdt3hMDpU",
      "authorship_tag": "ABX9TyNDLU+TEpcBST5kEwspc6uH",
      "include_colab_link": true
    },
    "kernelspec": {
      "display_name": "Python 3",
      "name": "python3"
    },
    "language_info": {
      "name": "python"
    }
  },
  "nbformat": 4,
  "nbformat_minor": 0
}