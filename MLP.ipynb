{
  "nbformat": 4,
  "nbformat_minor": 0,
  "metadata": {
    "colab": {
      "name": "MLP.ipynb",
      "provenance": [],
      "collapsed_sections": [],
      "mount_file_id": "1YR-jUb8EuWJitqI5etqQ27zUOluTbXFA",
      "authorship_tag": "ABX9TyNU00pTxB8Bmv9qSyt87hrw",
      "include_colab_link": true
    },
    "kernelspec": {
      "name": "python3",
      "display_name": "Python 3"
    },
    "language_info": {
      "name": "python"
    }
  },
  "cells": [
    {
      "cell_type": "markdown",
      "metadata": {
        "id": "view-in-github",
        "colab_type": "text"
      },
      "source": [
        "<a href=\"https://colab.research.google.com/github/thatsmygirl/AI-project/blob/main/MLP.ipynb\" target=\"_parent\"><img src=\"https://colab.research.google.com/assets/colab-badge.svg\" alt=\"Open In Colab\"/></a>"
      ]
    },
    {
      "cell_type": "code",
      "execution_count": 1,
      "metadata": {
        "id": "GS0RvZHiud_4"
      },
      "outputs": [],
      "source": [
        "from sklearn.neural_network import MLPClassifier\n",
        "from sklearn.model_selection import train_test_split\n",
        "import numpy as np\n",
        "import pandas as pd\n",
        "import os\n",
        "import cv2"
      ]
    },
    {
      "cell_type": "code",
      "source": [
        "DATADIR = 'drive/MyDrive/New Plant Diseases Dataset(Augmented)/New Plant Diseases Dataset(Augmented)/train'\n",
        "CATEGORIES = ['Apple___Apple_scab','Apple___Black_rot','Apple___Cedar_apple_rust']\n",
        "IMG_SIZE=100"
      ],
      "metadata": {
        "id": "29UygF4Vul20"
      },
      "execution_count": 5,
      "outputs": []
    },
    {
      "cell_type": "code",
      "source": [
        "training_data=[]\n",
        "def create_training_data():\n",
        "    for category in CATEGORIES:\n",
        "        path=os.path.join(DATADIR, category)\n",
        "        class_num=CATEGORIES.index(category)\n",
        "        for img in os.listdir(path):\n",
        "            try:\n",
        "                img_array=cv2.imread(os.path.join(path,img))\n",
        "                new_array=cv2.resize(img_array,(IMG_SIZE,IMG_SIZE))\n",
        "                training_data.append([new_array,class_num])\n",
        "            except Exception as e:\n",
        "                pass\n",
        "create_training_data()            "
      ],
      "metadata": {
        "id": "9MIG98JwunDK"
      },
      "execution_count": 6,
      "outputs": []
    },
    {
      "cell_type": "code",
      "source": [
        "lenofimage = len(training_data)\n",
        "\n",
        "X=[]\n",
        "y=[]\n",
        "\n",
        "for categories, label in training_data:\n",
        "    X.append(categories)\n",
        "    y.append(label)\n",
        "X= np.array(X).reshape(lenofimage,-1)\n",
        "\n",
        "X = X/255.0\n",
        "y=np.array(y)\n",
        "\n",
        "X_train, X_test, y_train, y_test = train_test_split(X, y, test_size=0.20)\n",
        "\n",
        "mlp = MLPClassifier(hidden_layer_sizes = (100, 80, 60, 40), learning_rate_init = 0.001,\n",
        "                    batch_size = 512, solver = 'adam', verbose = True)\n",
        "mlp.fit(X_train, y_train)"
      ],
      "metadata": {
        "colab": {
          "base_uri": "https://localhost:8080/"
        },
        "id": "tVqa59_1vQIJ",
        "outputId": "eca9917d-9855-4526-cea2-fe033110d1ea"
      },
      "execution_count": 16,
      "outputs": [
        {
          "output_type": "stream",
          "name": "stdout",
          "text": [
            "Iteration 1, loss = 2.20755248\n",
            "Iteration 2, loss = 1.49476832\n",
            "Iteration 3, loss = 1.14062804\n",
            "Iteration 4, loss = 1.10199695\n",
            "Iteration 5, loss = 1.14127628\n",
            "Iteration 6, loss = 0.96385042\n",
            "Iteration 7, loss = 1.24790120\n",
            "Iteration 8, loss = 0.92250354\n",
            "Iteration 9, loss = 0.86429028\n",
            "Iteration 10, loss = 0.79940932\n",
            "Iteration 11, loss = 0.83627261\n",
            "Iteration 12, loss = 0.81330084\n",
            "Iteration 13, loss = 0.78062694\n",
            "Iteration 14, loss = 0.83953881\n",
            "Iteration 15, loss = 1.65437437\n",
            "Iteration 16, loss = 0.99910270\n",
            "Iteration 17, loss = 1.19915139\n",
            "Iteration 18, loss = 0.98347367\n",
            "Iteration 19, loss = 1.03116828\n",
            "Iteration 20, loss = 0.74732729\n",
            "Iteration 21, loss = 0.72688687\n",
            "Iteration 22, loss = 0.69211622\n",
            "Iteration 23, loss = 0.65032962\n",
            "Iteration 24, loss = 0.58286157\n",
            "Iteration 25, loss = 0.98594587\n",
            "Iteration 26, loss = 0.79340086\n",
            "Iteration 27, loss = 0.81006767\n",
            "Iteration 28, loss = 0.60929608\n",
            "Iteration 29, loss = 0.72330539\n",
            "Iteration 30, loss = 0.71553179\n",
            "Iteration 31, loss = 0.59543184\n",
            "Iteration 32, loss = 0.55317407\n",
            "Iteration 33, loss = 0.50397201\n",
            "Iteration 34, loss = 0.59711528\n",
            "Iteration 35, loss = 0.62582425\n",
            "Iteration 36, loss = 0.96963588\n",
            "Iteration 37, loss = 0.65286388\n",
            "Iteration 38, loss = 0.82222916\n",
            "Iteration 39, loss = 0.80352819\n",
            "Iteration 40, loss = 0.90184297\n",
            "Iteration 41, loss = 0.58708812\n",
            "Iteration 42, loss = 0.52717749\n",
            "Iteration 43, loss = 0.54065669\n",
            "Iteration 44, loss = 0.93847714\n",
            "Training loss did not improve more than tol=0.000100 for 10 consecutive epochs. Stopping.\n"
          ]
        },
        {
          "output_type": "execute_result",
          "data": {
            "text/plain": [
              "MLPClassifier(batch_size=512, hidden_layer_sizes=(100, 80, 60, 40),\n",
              "              verbose=True)"
            ]
          },
          "metadata": {},
          "execution_count": 16
        }
      ]
    },
    {
      "cell_type": "code",
      "source": [
        "y2 = mlp.predict(X_test)"
      ],
      "metadata": {
        "id": "mLy4SHWAv0Nj"
      },
      "execution_count": 17,
      "outputs": []
    },
    {
      "cell_type": "code",
      "source": [
        "conf = np.zeros((10, 10))\n",
        "for i in range(len(y2)):\n",
        "  conf[y2[i]][y_test[i]] += 1\n",
        "print(conf)\n",
        "\n",
        "correct = 0\n",
        "for i in range(10):\n",
        "  correct += conf[i][i]\n",
        "accuracy = correct / len(y2)\n",
        "\n",
        "print(\"Accuracy: \", accuracy * 100, \"%\")"
      ],
      "metadata": {
        "colab": {
          "base_uri": "https://localhost:8080/"
        },
        "id": "OTfeguMIwAoj",
        "outputId": "ce676955-4209-44ad-ff67-05f38c9f438b"
      },
      "execution_count": 18,
      "outputs": [
        {
          "output_type": "stream",
          "name": "stdout",
          "text": [
            "[[273. 153.   4.   0.   0.   0.   0.   0.   0.   0.]\n",
            " [ 18. 198.   5.   0.   0.   0.   0.   0.   0.   0.]\n",
            " [121.  39. 342.   0.   0.   0.   0.   0.   0.   0.]\n",
            " [  0.   0.   0.   0.   0.   0.   0.   0.   0.   0.]\n",
            " [  0.   0.   0.   0.   0.   0.   0.   0.   0.   0.]\n",
            " [  0.   0.   0.   0.   0.   0.   0.   0.   0.   0.]\n",
            " [  0.   0.   0.   0.   0.   0.   0.   0.   0.   0.]\n",
            " [  0.   0.   0.   0.   0.   0.   0.   0.   0.   0.]\n",
            " [  0.   0.   0.   0.   0.   0.   0.   0.   0.   0.]\n",
            " [  0.   0.   0.   0.   0.   0.   0.   0.   0.   0.]]\n",
            "Accuracy:  70.51170858629662 %\n"
          ]
        }
      ]
    }
  ]
}